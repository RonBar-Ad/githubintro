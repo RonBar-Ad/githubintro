{
 "cells": [
  {
   "cell_type": "markdown",
   "metadata": {},
   "source": [
    "This notebook implements an dynamic graph showing the relationship between river discharge and river height for different levels of roughness, using <A href=\"http://www.fsl.orst.edu/geowater/FX3/help/8_Hydraulic_Reference/Manning_s_Equation.htm\">Manning's equation</A>.\n",
    "\n",
    "Author: <A href=\"http://www.geog.leeds.ac.uk/people/a.evans\">Dr Andy Evans</A>  \n",
    "Licence: <A href=\"https://opensource.org/licenses/AFL-3.0\">Academic Free License 3.0</A>"
   ]
  },
  {
   "cell_type": "markdown",
   "metadata": {},
   "source": [
    "It uses a variety of Python libraries, including <A href=\"http://ipywidgets.readthedocs.io/en/latest/examples/Using%20Interact.html\">Jupyter Widgets</A> for the scrollbars."
   ]
  },
  {
   "cell_type": "code",
   "execution_count": 2,
   "metadata": {},
   "outputs": [
    {
     "data": {
      "image/png": "[encoded data removed]",
      "text/plain": [
       "<matplotlib.figure.Figure at 0x68d85f0>"
      ]
     },
     "metadata": {},
     "output_type": "display_data"
    },
    {
     "data": {
      "text/plain": [
       "<function __main__.mannings>"
      ]
     },
     "execution_count": 2,
     "metadata": {},
     "output_type": "execute_result"
    }
   ],
   "source": [
    "%matplotlib inline\n",
    "import matplotlib.pyplot\n",
    "import numpy\n",
    "import math\n",
    "import ipywidgets \n",
    "\n",
    "\n",
    "def mannings (slope = 10 ,n_roughness = 10, width = 10, bank_angle = 10) :\n",
    "    \"\"\"\n",
    "    Generates a Manning plot.\n",
    "    All values in meters and degrees, save n_roughness, which is dimensionless.\n",
    "    \"\"\"\n",
    "    \n",
    "    # Depth data\n",
    "    d1 = numpy.asarray([0.0,1.0,2.0,3.0,4.0,5.0,6.0]);\n",
    "\n",
    "    # Starting dischange data\n",
    "    d2 = numpy.asarray([0.0,0.0,0.0,0.0,0.0,0.0,0.0]);\n",
    "\n",
    "    # For each depth, calculate the discharge\n",
    "    for i in range(0,len(d1)) :\n",
    "        radians = bank_angle * (math.pi / 180);\n",
    "        ob = d1[i] * math.tan(radians);\n",
    "        tri = ((0.5 * ob) * d1[i]);\n",
    "        area = (width * d1[i]) + (2 * tri);\n",
    "        hyp = (d1[i] / math.cos(radians));\n",
    "        wetted = (2 * hyp) + width;\n",
    "        r = area / wetted;\n",
    "        d2[i] = ((((math.pow(r,(2.0/3.0)))*(math.pow(slope,(1.0/2.0))))/n_roughness)*(area));  \n",
    "\n",
    "    # Plot the data\n",
    "    fig = matplotlib.pyplot.figure()\n",
    "    subfig = fig.add_subplot(111)\n",
    "\n",
    "    line = subfig.plot(d1, d2)\n",
    "    subfig.set_xlim(numpy.min(d1), numpy.max(d1) * 1.1)\n",
    "    subfig.set_ylim(numpy.min(d2), numpy.max(d2) * 1.1)\n",
    "\n",
    "    subfig.set_title(\"Discharge vs. river height by Manning's Equation\")\n",
    "    subfig.set_xlabel(\"Height (m)\")\n",
    "    subfig.set_ylabel(\"Discharge (Q)\")\n",
    "\n",
    "    matplotlib.pyplot.show()\n",
    "    # End of function\n",
    "\n",
    "# Display scrollbars. These rerun the mannings function.\n",
    "ipywidgets.widgets.interact(mannings, \n",
    "                            s = ipywidgets.widgets.IntSlider(min=1,max=30,step=1,value=10), \n",
    "                            n = ipywidgets.widgets.IntSlider(min=1,max=30,step=1,value=10), \n",
    "                            w = ipywidgets.widgets.IntSlider(min=1,max=30,step=1,value=10), \n",
    "                            a = ipywidgets.widgets.IntSlider(min=1,max=30,step=1,value=10))\n",
    "\n"
   ]
  },
  {
   "cell_type": "code",
   "execution_count": null,
   "metadata": {
    "collapsed": true
   },
   "outputs": [],
   "source": []
  }
 ],
 "metadata": {
  "kernelspec": {
   "display_name": "Python 3",
   "language": "python",
   "name": "python3"
  },
  "language_info": {
   "codemirror_mode": {
    "name": "ipython",
    "version": 3
   },
   "file_extension": ".py",
   "mimetype": "text/x-python",
   "name": "python",
   "nbconvert_exporter": "python",
   "pygments_lexer": "ipython3",
   "version": "3.8.3"
  }
 },
 "nbformat": 4,
 "nbformat_minor": 1
}
